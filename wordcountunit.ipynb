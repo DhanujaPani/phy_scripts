{
 "cells": [
  {
   "cell_type": "code",
   "execution_count": 1,
   "metadata": {},
   "outputs": [],
   "source": [
    "from pyspark.sql import DataFrame\n",
    "from pyspark.sql.functions import explode, split\n",
    "\n",
    "\n",
    "def wc_df(lines_df: DataFrame):\n",
    "    words = lines_df.select(explode(split(lines_df.value, \" \")).alias(\"word\"))\n",
    "    grouped_df = words.groupBy(\"word\").count()\n",
    "    return grouped_df"
   ]
  },
  {
   "cell_type": "code",
   "execution_count": 2,
   "metadata": {},
   "outputs": [],
   "source": [
    "import unittest\n",
    "from pyspark.sql import SparkSession, DataFrame\n",
    "from pyspark.sql.types import StructType, StructField, StringType\n",
    "import os\n",
    "\n",
    "from spark_wc import wc_df\n",
    "\n",
    "\n",
    "class WordCountTest(unittest.TestCase):\n",
    "    def test_wc_df(self):\n",
    "        spark = SparkSession.builder.getOrCreate()\n",
    "        schema = StructType([StructField(\"value\", StringType())])\n",
    "        text_array = [[\"text array\"], [\"array holds data\"], [\"text splitting program\"]]\n",
    "        text_df = spark.createDataFrame(text_array, schema)\n",
    "        text_df.show()\n",
    "        grouped_df= wc_df(text_df)\n",
    "        result_frequency = {\"text\": 2, \"array\": 2, \"holds\": 1, \"data\": 1, \"splitting\": 1, \"program\": 1}\n",
    "        l= grouped_df.collect()\n",
    "        frequency_from_spark={}\n",
    "        print(l)\n",
    "        for i in l:\n",
    "            i=str(i).split(',')\n",
    "            k=i[0].replace(\"'\",'').split('=')[1]\n",
    "            v=i[1].replace(\"'\",'').replace(')','').split('=')[1]\n",
    "            frequency_from_spark[k]=int(v)\n",
    "        print(f'The result frequency is {result_frequency}')\n",
    "        print(f'The frequency from spark  is {frequency_from_spark}')\n",
    "        self.assertDictEqual(result_frequency, frequency_from_spark)"
   ]
  },
  {
   "cell_type": "code",
   "execution_count": 3,
   "metadata": {},
   "outputs": [
    {
     "name": "stderr",
     "output_type": "stream",
     "text": [
      "/opt/anaconda3/lib/python3.7/subprocess.py:883: ResourceWarning: subprocess 28830 is still running\n",
      "  ResourceWarning, source=self)\n",
      "ResourceWarning: Enable tracemalloc to get the object allocation traceback\n",
      "/opt/anaconda3/lib/python3.7/importlib/_bootstrap.py:219: RuntimeWarning: numpy.ufunc size changed, may indicate binary incompatibility. Expected 192 from C header, got 216 from PyObject\n",
      "  return f(*args, **kwds)\n"
     ]
    },
    {
     "name": "stdout",
     "output_type": "stream",
     "text": [
      "+--------------------+\n",
      "|               value|\n",
      "+--------------------+\n",
      "|          text array|\n",
      "|    array holds data|\n",
      "|text splitting pr...|\n",
      "+--------------------+\n",
      "\n"
     ]
    },
    {
     "name": "stderr",
     "output_type": "stream",
     "text": [
      "/opt/anaconda3/lib/python3.7/socket.py:660: ResourceWarning: unclosed <socket.socket fd=49, family=AddressFamily.AF_INET, type=SocketKind.SOCK_STREAM, proto=6, laddr=('127.0.0.1', 38610), raddr=('127.0.0.1', 40605)>\n",
      "  self._sock = None\n",
      "ResourceWarning: Enable tracemalloc to get the object allocation traceback\n",
      "."
     ]
    },
    {
     "name": "stdout",
     "output_type": "stream",
     "text": [
      "[Row(word='program', count=1), Row(word='data', count=1), Row(word='array', count=2), Row(word='splitting', count=1), Row(word='holds', count=1), Row(word='text', count=2)]\n",
      "The result frequency is {'text': 2, 'array': 2, 'holds': 1, 'data': 1, 'splitting': 1, 'program': 1}\n",
      "The frequency from spark  is {'program': 1, 'data': 1, 'array': 2, 'splitting': 1, 'holds': 1, 'text': 2}\n"
     ]
    },
    {
     "name": "stderr",
     "output_type": "stream",
     "text": [
      "\n",
      "----------------------------------------------------------------------\n",
      "Ran 1 test in 10.698s\n",
      "\n",
      "OK\n"
     ]
    },
    {
     "data": {
      "text/plain": [
       "<unittest.main.TestProgram at 0x7f21c8111690>"
      ]
     },
     "execution_count": 3,
     "metadata": {},
     "output_type": "execute_result"
    }
   ],
   "source": [
    "unittest.main(argv=[''],exit=False)"
   ]
  },
  {
   "cell_type": "code",
   "execution_count": 4,
   "metadata": {},
   "outputs": [],
   "source": [
    "import unittest\n",
    "from pyspark.sql import SparkSession, DataFrame\n",
    "from pyspark.sql.types import StructType, StructField, StringType\n",
    "import os\n",
    "\n",
    "from spark_wc import wc_df\n",
    "\n",
    "\n",
    "class WordCountTest(unittest.TestCase):\n",
    "    def test_wc_df(self):\n",
    "        spark = SparkSession.builder.getOrCreate()\n",
    "        schema = StructType([StructField(\"value\", StringType())])\n",
    "        text_array = [[\"text array\"], [\"array holds data\"], [\"text splitting program\"]]\n",
    "        text_df = spark.createDataFrame(text_array, schema)\n",
    "        text_df.show()\n",
    "        grouped_df= wc_df(text_df)\n",
    "        result_frequency = {\"text\": 2, \"array\": 2, \"holds\": 1, \"data\": 1, \"splitting\": 1, \"program\": 1,'dhanuja':2}\n",
    "        l= grouped_df.collect()\n",
    "        frequency_from_spark={}\n",
    "        print(l)\n",
    "        for i in l:\n",
    "            i=str(i).split(',')\n",
    "            k=i[0].replace(\"'\",'').split('=')[1]\n",
    "            v=i[1].replace(\"'\",'').replace(')','').split('=')[1]\n",
    "            frequency_from_spark[k]=int(v)\n",
    "        print(f'The result frequency is {result_frequency}')\n",
    "        print(f'The frequency from spark  is {frequency_from_spark}')\n",
    "        self.assertCountEqual(result_frequency, frequency_from_spark)"
   ]
  },
  {
   "cell_type": "code",
   "execution_count": 5,
   "metadata": {},
   "outputs": [
    {
     "name": "stdout",
     "output_type": "stream",
     "text": [
      "+--------------------+\n",
      "|               value|\n",
      "+--------------------+\n",
      "|          text array|\n",
      "|    array holds data|\n",
      "|text splitting pr...|\n",
      "+--------------------+\n",
      "\n"
     ]
    },
    {
     "name": "stderr",
     "output_type": "stream",
     "text": [
      "/opt/anaconda3/lib/python3.7/socket.py:660: ResourceWarning: unclosed <socket.socket fd=49, family=AddressFamily.AF_INET, type=SocketKind.SOCK_STREAM, proto=6, laddr=('127.0.0.1', 33976), raddr=('127.0.0.1', 36912)>\n",
      "  self._sock = None\n",
      "ResourceWarning: Enable tracemalloc to get the object allocation traceback\n",
      "F"
     ]
    },
    {
     "name": "stdout",
     "output_type": "stream",
     "text": [
      "[Row(word='program', count=1), Row(word='data', count=1), Row(word='array', count=2), Row(word='splitting', count=1), Row(word='holds', count=1), Row(word='text', count=2)]\n",
      "The result frequency is {'text': 2, 'array': 2, 'holds': 1, 'data': 1, 'splitting': 1, 'program': 1, 'dhanuja': 2}\n",
      "The frequency from spark  is {'program': 1, 'data': 1, 'array': 2, 'splitting': 1, 'holds': 1, 'text': 2}\n"
     ]
    },
    {
     "name": "stderr",
     "output_type": "stream",
     "text": [
      "\n",
      "======================================================================\n",
      "FAIL: test_wc_df (__main__.WordCountTest)\n",
      "----------------------------------------------------------------------\n",
      "Traceback (most recent call last):\n",
      "  File \"<ipython-input-4-5dbec2621f5f>\", line 28, in test_wc_df\n",
      "    self.assertCountEqual(result_frequency, frequency_from_spark)\n",
      "AssertionError: Element counts were not equal:\n",
      "First has 1, Second has 0:  'dhanuja'\n",
      "\n",
      "----------------------------------------------------------------------\n",
      "Ran 1 test in 1.164s\n",
      "\n",
      "FAILED (failures=1)\n"
     ]
    },
    {
     "data": {
      "text/plain": [
       "<unittest.main.TestProgram at 0x7f21e57160d0>"
      ]
     },
     "execution_count": 5,
     "metadata": {},
     "output_type": "execute_result"
    }
   ],
   "source": [
    "unittest.main(argv=[''],exit=False)"
   ]
  },
  {
   "cell_type": "code",
   "execution_count": 6,
   "metadata": {},
   "outputs": [],
   "source": [
    "import unittest\n",
    "from pyspark.sql import SparkSession, DataFrame\n",
    "from pyspark.sql.types import StructType, StructField, StringType\n",
    "import os\n",
    "\n",
    "from spark_wc import wc_df\n",
    "\n",
    "\n",
    "class WordCountTest(unittest.TestCase):\n",
    "    def test_wc_df(self):\n",
    "        spark = SparkSession.builder.getOrCreate()\n",
    "        schema = StructType([StructField(\"value\", StringType())])\n",
    "        text_array = [[\"text array\"], [\"array holds data dhanuja\"], [\"text splitting program dhanuja\"]]\n",
    "        text_df = spark.createDataFrame(text_array, schema)\n",
    "        text_df.show()\n",
    "        grouped_df= wc_df(text_df)\n",
    "        result_frequency = {\"text\": 2, \"array\": 2, \"holds\": 1, \"data\": 1, \"splitting\": 1, \"program\": 1,'dhanuja':1}\n",
    "        l= grouped_df.collect()\n",
    "        frequency_from_spark={}\n",
    "        print(l)\n",
    "        for i in l:\n",
    "            i=str(i).split(',')\n",
    "            k=i[0].replace(\"'\",'').split('=')[1]\n",
    "            v=i[1].replace(\"'\",'').replace(')','').split('=')[1]\n",
    "            frequency_from_spark[k]=int(v)\n",
    "        print(f'The result frequency is {result_frequency}')\n",
    "        print(f'The frequency from spark  is {frequency_from_spark}')\n",
    "        self.assertLessEqual(result_frequency['dhanuja'], frequency_from_spark['dhanuja'])"
   ]
  },
  {
   "cell_type": "code",
   "execution_count": 7,
   "metadata": {},
   "outputs": [
    {
     "name": "stdout",
     "output_type": "stream",
     "text": [
      "+--------------------+\n",
      "|               value|\n",
      "+--------------------+\n",
      "|          text array|\n",
      "|array holds data ...|\n",
      "|text splitting pr...|\n",
      "+--------------------+\n",
      "\n"
     ]
    },
    {
     "name": "stderr",
     "output_type": "stream",
     "text": [
      "/opt/anaconda3/lib/python3.7/socket.py:660: ResourceWarning: unclosed <socket.socket fd=49, family=AddressFamily.AF_INET, type=SocketKind.SOCK_STREAM, proto=6, laddr=('127.0.0.1', 50784), raddr=('127.0.0.1', 32984)>\n",
      "  self._sock = None\n",
      "ResourceWarning: Enable tracemalloc to get the object allocation traceback\n",
      "."
     ]
    },
    {
     "name": "stdout",
     "output_type": "stream",
     "text": [
      "[Row(word='program', count=1), Row(word='data', count=1), Row(word='array', count=2), Row(word='dhanuja', count=2), Row(word='splitting', count=1), Row(word='holds', count=1), Row(word='text', count=2)]\n",
      "The result frequency is {'text': 2, 'array': 2, 'holds': 1, 'data': 1, 'splitting': 1, 'program': 1, 'dhanuja': 1}\n",
      "The frequency from spark  is {'program': 1, 'data': 1, 'array': 2, 'dhanuja': 2, 'splitting': 1, 'holds': 1, 'text': 2}\n"
     ]
    },
    {
     "name": "stderr",
     "output_type": "stream",
     "text": [
      "\n",
      "----------------------------------------------------------------------\n",
      "Ran 1 test in 0.738s\n",
      "\n",
      "OK\n"
     ]
    },
    {
     "data": {
      "text/plain": [
       "<unittest.main.TestProgram at 0x7f21e570c690>"
      ]
     },
     "execution_count": 7,
     "metadata": {},
     "output_type": "execute_result"
    }
   ],
   "source": [
    "unittest.main(argv=[''],exit=False)"
   ]
  },
  {
   "cell_type": "code",
   "execution_count": null,
   "metadata": {},
   "outputs": [],
   "source": []
  }
 ],
 "metadata": {
  "kernelspec": {
   "display_name": "Python 3",
   "language": "python",
   "name": "python3"
  },
  "language_info": {
   "codemirror_mode": {
    "name": "ipython",
    "version": 3
   },
   "file_extension": ".py",
   "mimetype": "text/x-python",
   "name": "python",
   "nbconvert_exporter": "python",
   "pygments_lexer": "ipython3",
   "version": "3.7.6"
  }
 },
 "nbformat": 4,
 "nbformat_minor": 4
}
