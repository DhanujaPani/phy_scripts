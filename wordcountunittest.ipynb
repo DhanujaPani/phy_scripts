{
 "cells": [
  {
   "cell_type": "code",
   "execution_count": 1,
   "metadata": {},
   "outputs": [],
   "source": [
    "from pyspark.sql import DataFrame\n",
    "from pyspark.sql.functions import explode, split\n",
    "\n",
    "\n",
    "def wc_df(lines_df: DataFrame):\n",
    "    words = lines_df.select(explode(split(lines_df.value, \" \")).alias(\"word\"))\n",
    "    grouped_df = words.groupBy(\"word\").count()\n",
    "    return grouped_df"
   ]
  },
  {
   "cell_type": "code",
   "execution_count": 2,
   "metadata": {},
   "outputs": [],
   "source": [
    "import unittest\n",
    "from pyspark.sql import SparkSession, DataFrame\n",
    "from pyspark.sql.types import StructType, StructField, StringType\n",
    "import os\n",
    "\n",
    "from spark_wc import wc_df\n",
    "\n",
    "\n",
    "class WordCountTest(unittest.TestCase):\n",
    "    def test_wc_df(self):\n",
    "        spark = SparkSession.builder.getOrCreate()\n",
    "        schema = StructType([StructField(\"value\", StringType())])\n",
    "        text_array = [[\"text array\"], [\"array holds data\"], [\"text splitting program\"]]\n",
    "        text_df = spark.createDataFrame(text_array, schema)\n",
    "        text_df.show()\n",
    "        grouped_df= wc_df(text_df)\n",
    "        result_frequency = {\"text\": 2, \"array\": 2, \"holds\": 1, \"data\": 1, \"splitting\": 1, \"program\": 1}\n",
    "        l= grouped_df.collect()\n",
    "        frequency_from_spark={}\n",
    "        print(l)\n",
    "        for i in l:\n",
    "            i=str(i).split(',')\n",
    "            k=i[0].replace(\"'\",'').split('=')[1]\n",
    "            v=i[1].replace(\"'\",'').replace(')','').split('=')[1]\n",
    "            frequency_from_spark[k]=int(v)\n",
    "        print(f'The result frequency is {result_frequency}')\n",
    "        print(f'The frequency from spark  is {frequency_from_spark}')\n",
    "        self.assertDictEqual(result_frequency, frequency_from_spark)"
   ]
  },
  {
   "cell_type": "code",
   "execution_count": null,
   "metadata": {},
   "outputs": [],
   "source": [
    "unittest.main(argv=[''],exit=False)"
   ]
  },
  {
   "cell_type": "code",
   "execution_count": 4,
   "metadata": {},
   "outputs": [],
   "source": [
    "import unittest\n",
    "from pyspark.sql import SparkSession, DataFrame\n",
    "from pyspark.sql.types import StructType, StructField, StringType\n",
    "import os\n",
    "\n",
    "from spark_wc import wc_df\n",
    "\n",
    "\n",
    "class WordCountTest(unittest.TestCase):\n",
    "    def test_wc_df(self):\n",
    "        spark = SparkSession.builder.getOrCreate()\n",
    "        schema = StructType([StructField(\"value\", StringType())])\n",
    "        text_array = [[\"text array\"], [\"array holds data\"], [\"text splitting program\"]]\n",
    "        text_df = spark.createDataFrame(text_array, schema)\n",
    "        text_df.show()\n",
    "        grouped_df= wc_df(text_df)\n",
    "        result_frequency = {\"text\": 2, \"array\": 2, \"holds\": 1, \"data\": 1, \"splitting\": 1, \"program\": 1,'dhanuja':2}\n",
    "        l= grouped_df.collect()\n",
    "        frequency_from_spark={}\n",
    "        print(l)\n",
    "        for i in l:\n",
    "            i=str(i).split(',')\n",
    "            k=i[0].replace(\"'\",'').split('=')[1]\n",
    "            v=i[1].replace(\"'\",'').replace(')','').split('=')[1]\n",
    "            frequency_from_spark[k]=int(v)\n",
    "        print(f'The result frequency is {result_frequency}')\n",
    "        print(f'The frequency from spark  is {frequency_from_spark}')\n",
    "        self.assertCountEqual(result_frequency, frequency_from_spark)"
   ]
  },
  {
   "cell_type": "code",
   "execution_count": null,
   "metadata": {},
   "outputs": [],
   "source": [
    "unittest.main(argv=[''],exit=False)"
   ]
  },
  {
   "cell_type": "code",
   "execution_count": 6,
   "metadata": {},
   "outputs": [],
   "source": [
    "import unittest\n",
    "from pyspark.sql import SparkSession, DataFrame\n",
    "from pyspark.sql.types import StructType, StructField, StringType\n",
    "import os\n",
    "\n",
    "from spark_wc import wc_df\n",
    "\n",
    "\n",
    "class WordCountTest(unittest.TestCase):\n",
    "    def test_wc_df(self):\n",
    "        spark = SparkSession.builder.getOrCreate()\n",
    "        schema = StructType([StructField(\"value\", StringType())])\n",
    "        text_array = [[\"text array\"], [\"array holds data dhanuja\"], [\"text splitting program dhanuja\"]]\n",
    "        text_df = spark.createDataFrame(text_array, schema)\n",
    "        text_df.show()\n",
    "        grouped_df= wc_df(text_df)\n",
    "        result_frequency = {\"text\": 2, \"array\": 2, \"holds\": 1, \"data\": 1, \"splitting\": 1, \"program\": 1,'dhanuja':1}\n",
    "        l= grouped_df.collect()\n",
    "        frequency_from_spark={}\n",
    "        print(l)\n",
    "        for i in l:\n",
    "            i=str(i).split(',')\n",
    "            k=i[0].replace(\"'\",'').split('=')[1]\n",
    "            v=i[1].replace(\"'\",'').replace(')','').split('=')[1]\n",
    "            frequency_from_spark[k]=int(v)\n",
    "        print(f'The result frequency is {result_frequency}')\n",
    "        print(f'The frequency from spark  is {frequency_from_spark}')\n",
    "        self.assertLessEqual(result_frequency['dhanuja'], frequency_from_spark['dhanuja'])"
   ]
  },
  {
   "cell_type": "code",
   "execution_count": null,
   "metadata": {},
   "outputs": [],
   "source": [
    "unittest.main(argv=[''],exit=False)"
   ]
  },
  {
   "cell_type": "code",
   "execution_count": null,
   "metadata": {},
   "outputs": [],
   "source": []
  }
 ],
 "metadata": {
  "kernelspec": {
   "display_name": "Python 3",
   "language": "python",
   "name": "python3"
  },
  "language_info": {
   "codemirror_mode": {
    "name": "ipython",
    "version": 3
   },
   "file_extension": ".py",
   "mimetype": "text/x-python",
   "name": "python",
   "nbconvert_exporter": "python",
   "pygments_lexer": "ipython3",
   "version": "3.7.6"
  }
 },
 "nbformat": 4,
 "nbformat_minor": 4
}
